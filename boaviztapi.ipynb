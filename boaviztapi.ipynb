{
 "cells": [
  {
   "cell_type": "markdown",
   "metadata": {},
   "source": [
    "# BoaviztAPI: A Bottom-Up Model to Assess the Environmental Impacts of Cloud Services\n",
    "\n",
    "This notebook is structured according to the bottom-up methodology describes in the paper, starting from server's components.\n"
   ]
  },
  {
   "cell_type": "markdown",
   "metadata": {},
   "source": [
    "# Utils\n"
   ]
  },
  {
   "cell_type": "code",
   "execution_count": 1,
   "metadata": {},
   "outputs": [],
   "source": [
    "import matplotlib.pyplot as plt\n",
    "import numpy as np\n",
    "\n",
    "\n",
    "def plot_usage_embodied(embodied, usage):\n",
    "    plt.style.use(\"default\")\n",
    "\n",
    "    total_embodied = sum(embodied.values())\n",
    "    total_usage = sum(usage.values())\n",
    "    category_names = embodied.keys()\n",
    "    results = {\n",
    "        \"Embodied \\n\"\n",
    "        + str(round(total_embodied, 2))\n",
    "        + \" kgCO2e\": list(embodied.values()),\n",
    "        \"Usage \\n\" + str(round(total_usage, 2)) + \" kgCO2e\": list(usage.values()),\n",
    "    }\n",
    "\n",
    "    labels = list(results.keys())\n",
    "    data = np.array(list(results.values()))\n",
    "    data_cum = data.cumsum(axis=1)\n",
    "    category_colors = plt.colormaps[\"RdYlGn\"](np.linspace(0.15, 0.85, data.shape[1]))\n",
    "\n",
    "    fig, ax = plt.subplots(figsize=(10, 5))  # Slightly wider for better visibility\n",
    "    ax.invert_yaxis()\n",
    "    ax.xaxis.set_visible(False)\n",
    "    ax.set_xlim(0, np.sum(data, axis=1).max() * 1.1)  # Extend limit by 10% for padding\n",
    "\n",
    "    AAAAA = [0.35, 0.65]\n",
    "    ax.set_yticks(AAAAA, labels=results.keys())\n",
    "\n",
    "    # Remove borders\n",
    "    ax.spines[\"top\"].set_visible(False)\n",
    "    ax.spines[\"right\"].set_visible(False)\n",
    "    ax.spines[\"bottom\"].set_visible(False)\n",
    "    ax.spines[\"left\"].set_visible(False)\n",
    "\n",
    "    for i, (colname, color) in enumerate(zip(category_names, category_colors)):\n",
    "        widths = data[:, i]\n",
    "        starts = data_cum[:, i] - widths\n",
    "        rects = ax.barh(\n",
    "            AAAAA, widths, left=starts, height=0.2, label=colname, color=color\n",
    "        )\n",
    "\n",
    "        labels = []\n",
    "        for value in rects.datavalues:\n",
    "            if value > 1:\n",
    "                labels.append(str(round(value, 2)))\n",
    "            else:\n",
    "                labels.append(\"\")\n",
    "\n",
    "        r, g, b, _ = color\n",
    "        text_color = \"white\" if r * g * b < 0.5 else \"darkgrey\"\n",
    "        ax.bar_label(rects, label_type=\"center\", color=text_color, labels=labels)\n",
    "\n",
    "    # Adjust legend location to avoid overflow issues\n",
    "    ax.legend(ncol=1, bbox_to_anchor=(1.05, 1), loc=\"upper left\", fontsize=\"small\")\n",
    "\n",
    "    fig.subplots_adjust(right=0.85)  # Adjust subplot to prevent clipping on the right\n",
    "    fig.set_figwidth(10)\n",
    "    fig.set_figheight(5)\n",
    "\n",
    "    plt.show()"
   ]
  },
  {
   "cell_type": "markdown",
   "metadata": {},
   "source": [
    "# Impact factors\n"
   ]
  },
  {
   "cell_type": "markdown",
   "metadata": {},
   "source": [
    "- Variables starting with $f$ are _impact factors_, meaning that they give an impact / quantity\n",
    "- Variables starting with $i$ are directy an _impacts_.\n"
   ]
  },
  {
   "cell_type": "code",
   "execution_count": 2,
   "metadata": {},
   "outputs": [],
   "source": [
    "f_cpu_die_gwp = 1.97\n",
    "f_cpu_die_adp = 5.87e-07\n",
    "f_cpu_die_pe = 2.65e01\n",
    "\n",
    "i_cpu_base_gwp = 9.14\n",
    "i_cpu_base_adp = 2.04e-02\n",
    "i_cpu_base_pe = 156.43\n",
    "\n",
    "f_nand_die_gwp = 2.20\n",
    "f_nand_die_adp = 6.30e-05\n",
    "f_nand_die_pe = 2.73e01\n",
    "\n",
    "i_ram_base_gwp = 5.22\n",
    "i_ram_base_adp = 1.69e-03\n",
    "i_ram_base_pe = 74.00\n",
    "\n",
    "i_ssd_base_gwp = 6.34\n",
    "i_ssd_base_adp = 5.63e-04\n",
    "i_ssd_base_pe = 73.98\n",
    "\n",
    "i_hdd_gwp = 3.11e01\n",
    "i_hdd_adp = 2.50e-04\n",
    "i_hdd_pe = 2.76e02\n",
    "\n",
    "f_psu_e_gwp = 2.43e01\n",
    "f_psu_e_adp = 8.30e-03\n",
    "f_psu_e_pe = 3.52e02\n",
    "\n",
    "i_motherboard_gwp = 6.61e01\n",
    "i_motherboard_adp = 3.69e-03\n",
    "i_motherboard_pe = 8.36e02\n",
    "\n",
    "i_assembly_gwp = 6.68\n",
    "i_assembly_adp = 1.41e-06\n",
    "i_assembly_pe = 6.86e01\n",
    "\n",
    "i_casing_gwp = 1.50e02\n",
    "i_casing_adp = 2.02e-02\n",
    "i_casing_pe = 2.20e03"
   ]
  },
  {
   "cell_type": "markdown",
   "metadata": {},
   "source": [
    "# Server characteristics\n"
   ]
  },
  {
   "cell_type": "code",
   "execution_count": 3,
   "metadata": {},
   "outputs": [],
   "source": [
    "cpu_units = 2  # number of physical cpus\n",
    "cpu_cores = 22  # cores per cpu unit\n",
    "ram_capacity = 32  # in gb\n",
    "ram_sticks = 12  # number of physical ram sticks\n",
    "\n",
    "ssd_disks = [\n",
    "    {\"capacity\": 400, \"quantity\": 1},\n",
    "    {\"capacity\": 3840, \"quantity\": 8},\n",
    "]\n",
    "ssd_total = sum(disk[\"capacity\"] * disk[\"quantity\"] for disk in ssd_disks)\n",
    "life_expectancy = 5 * 365 * 24  # In hours"
   ]
  },
  {
   "cell_type": "markdown",
   "metadata": {},
   "source": [
    "# Components\n"
   ]
  },
  {
   "cell_type": "markdown",
   "metadata": {},
   "source": [
    "## Embodied\n"
   ]
  },
  {
   "cell_type": "markdown",
   "metadata": {},
   "source": [
    "### CPU\n"
   ]
  },
  {
   "cell_type": "markdown",
   "metadata": {},
   "source": [
    "$$\\mathcal{F}^e_{cpu} = \\frac{die_{cpu} \\times \\mathcal{F}^{die}_{cpu} + \\mathcal{I}^{base}_{cpu}}{\\mathcal{D}}$$\n"
   ]
  },
  {
   "cell_type": "code",
   "execution_count": 4,
   "metadata": {},
   "outputs": [
    {
     "name": "stdout",
     "output_type": "stream",
     "text": [
      "CPU (lifecycle)\n",
      "45.6236 kgCO2e\n",
      "0.04080814756 kgSbeq\n",
      "29813784.000000004 MJ\n"
     ]
    }
   ],
   "source": [
    "die_cpu = 6.94  # in mm2\n",
    "\n",
    "fe_cpu_gwp = (\n",
    "    ((die_cpu * f_cpu_die_gwp) + i_cpu_base_gwp) / life_expectancy\n",
    ") * cpu_units\n",
    "fe_cpu_adp = (\n",
    "    ((die_cpu * f_cpu_die_adp) + i_cpu_base_adp) / life_expectancy\n",
    ") * cpu_units\n",
    "fe_cpu_pe = ((die_cpu * f_cpu_die_pe) + i_cpu_base_pe) * cpu_units\n",
    "\n",
    "print(\"CPU (lifecycle)\")\n",
    "print(f\"{fe_cpu_gwp * life_expectancy} kgCO2e\")\n",
    "print(f\"{fe_cpu_adp * life_expectancy} kgSbeq\")\n",
    "print(f\"{fe_cpu_pe * life_expectancy} MJ\")"
   ]
  },
  {
   "cell_type": "markdown",
   "metadata": {},
   "source": [
    "### NAND memory\n"
   ]
  },
  {
   "cell_type": "markdown",
   "metadata": {},
   "source": [
    "$$\n",
    "\\forall NAND \\in \\{ssd,ram\\}:\n",
    "        \\mathcal{F}^e_{NAND} = \\frac{\\frac{capacity}{density} \\times \\mathcal{F}^{die}_{NAND} + \\mathcal{I}^{base}_{NAND}}{\\mathcal{D}}\n",
    "$$\n"
   ]
  },
  {
   "cell_type": "code",
   "execution_count": 5,
   "metadata": {},
   "outputs": [
    {
     "name": "stdout",
     "output_type": "stream",
     "text": [
      "RAM (lifecycle)\n",
      "534.5953072625698 kgCO2e\n",
      "0.03379508379888268 kgSbeq\n",
      "6744.536312849161 MJ\n"
     ]
    }
   ],
   "source": [
    "# RAM\n",
    "ram_density = 1.79  # in cm2\n",
    "\n",
    "fe_ram_gwp = (\n",
    "    ((ram_capacity / ram_density) * f_nand_die_gwp + i_ram_base_gwp) / life_expectancy\n",
    ") * ram_sticks\n",
    "fe_ram_adp = (\n",
    "    ((ram_capacity / ram_density) * f_nand_die_adp + i_ram_base_adp) / life_expectancy\n",
    ") * ram_sticks\n",
    "fe_ram_pe = (\n",
    "    ((ram_capacity / ram_density) * f_nand_die_pe + i_ram_base_pe) / life_expectancy\n",
    ") * ram_sticks\n",
    "\n",
    "print(\"RAM (lifecycle)\")\n",
    "print(f\"{fe_ram_gwp * life_expectancy} kgCO2e\")\n",
    "print(f\"{fe_ram_adp * life_expectancy} kgSbeq\")\n",
    "print(f\"{fe_ram_pe * life_expectancy} MJ\")"
   ]
  },
  {
   "cell_type": "code",
   "execution_count": 6,
   "metadata": {},
   "outputs": [
    {
     "name": "stdout",
     "output_type": "stream",
     "text": [
      "SSD (lifecycle)\n",
      "3660.4284210526316 kgCO2e\n",
      "0.10825436842105263 kgSbeq\n",
      "45380.34631578947 MJ\n"
     ]
    }
   ],
   "source": [
    "# SSDs\n",
    "ssd_density = 19  # in GB/cm2\n",
    "\n",
    "fe_ssd_gwp = 0\n",
    "fe_ssd_adp = 0\n",
    "fe_ssd_pe = 0\n",
    "\n",
    "for ssd in ssd_disks:\n",
    "    ssd_capacity = ssd[\"capacity\"]  # in gb\n",
    "    ssd_disks = ssd[\"quantity\"]  # number of physical ssd disks\n",
    "\n",
    "    fe_ssd_gwp += (\n",
    "        (ssd_capacity / ssd_density) * f_nand_die_gwp + i_ssd_base_gwp\n",
    "    ) * ssd_disks\n",
    "    fe_ssd_adp += (\n",
    "        (ssd_capacity / ssd_density) * f_nand_die_adp + i_ssd_base_adp\n",
    "    ) * ssd_disks\n",
    "    fe_ssd_pe += (\n",
    "        (ssd_capacity / ssd_density) * f_nand_die_pe + i_ssd_base_pe\n",
    "    ) * ssd_disks\n",
    "\n",
    "fe_ssd_gwp /= life_expectancy\n",
    "fe_ssd_adp /= life_expectancy\n",
    "fe_ssd_pe /= life_expectancy\n",
    "\n",
    "print(\"SSD (lifecycle)\")\n",
    "print(f\"{fe_ssd_gwp * life_expectancy} kgCO2e\")\n",
    "print(f\"{fe_ssd_adp * life_expectancy} kgSbeq\")\n",
    "print(f\"{fe_ssd_pe * life_expectancy} MJ\")"
   ]
  },
  {
   "cell_type": "markdown",
   "metadata": {},
   "source": [
    "### Others\n"
   ]
  },
  {
   "cell_type": "markdown",
   "metadata": {},
   "source": [
    "$$\n",
    "\\mathcal{F}^e_{others} =\n",
    "\t\\frac{\\mathcal{I}^e_{motherboard} +\n",
    "\t\\mathcal{I}^e_{psu} +\n",
    "\t\\mathcal{I}^e_{assembly} +\n",
    "\t\\mathcal{I}^e_{casing}}{\\mathcal{D}}\n",
    "$$\n"
   ]
  },
  {
   "cell_type": "code",
   "execution_count": 7,
   "metadata": {},
   "outputs": [
    {
     "name": "stdout",
     "output_type": "stream",
     "text": [
      "Others\n",
      "368.1912 kgCO2e\n",
      "0.07355861 kgSbeq\n",
      "5210.968 MJ\n"
     ]
    }
   ],
   "source": [
    "psu_weight = 2.992  # in kg\n",
    "psu_units = 2\n",
    "\n",
    "i_psu_gwp = f_psu_e_gwp * psu_weight * psu_units\n",
    "i_psu_adp = f_psu_e_adp * psu_weight * psu_units\n",
    "i_psu_pe = f_psu_e_pe * psu_weight * psu_units\n",
    "\n",
    "fe_others_gwp = (\n",
    "    i_motherboard_gwp + i_psu_gwp + i_assembly_gwp + i_casing_gwp\n",
    ") / life_expectancy\n",
    "fe_others_adp = (\n",
    "    i_motherboard_adp + i_psu_adp + i_assembly_adp + i_casing_adp\n",
    ") / life_expectancy\n",
    "fe_others_pe = (\n",
    "    i_motherboard_pe + i_psu_pe + i_assembly_pe + i_casing_pe\n",
    ") / life_expectancy\n",
    "\n",
    "print(\"Others\")\n",
    "print(f\"{fe_others_gwp * life_expectancy} kgCO2e\")\n",
    "print(f\"{fe_others_adp * life_expectancy} kgSbeq\")\n",
    "print(f\"{fe_others_pe * life_expectancy} MJ\")"
   ]
  },
  {
   "cell_type": "markdown",
   "metadata": {},
   "source": [
    "####\n"
   ]
  },
  {
   "cell_type": "markdown",
   "metadata": {},
   "source": [
    "## Usage\n"
   ]
  },
  {
   "cell_type": "markdown",
   "metadata": {},
   "source": [
    "### CPU\n"
   ]
  },
  {
   "cell_type": "markdown",
   "metadata": {},
   "source": [
    "$$\\mathcal{P}_{cpu}(w)=a \\times \\log(b \\times (w + c)) + d$$\n"
   ]
  },
  {
   "cell_type": "code",
   "execution_count": 8,
   "metadata": {},
   "outputs": [
    {
     "name": "stdout",
     "output_type": "stream",
     "text": [
      "232.54525830769748 W\n"
     ]
    }
   ],
   "source": [
    "import math\n",
    "\n",
    "# Using ratios for a xeon gold at https://doc.api.boavizta.org/Explanations/components/cpu/\n",
    "\n",
    "a = 35.5688\n",
    "b = 0.2438\n",
    "c = 9.6694\n",
    "d = -0.6087\n",
    "\n",
    "workload = 100  # In percentage\n",
    "\n",
    "w_cpu = (a * math.log(b * (workload + c)) + d) * cpu_units\n",
    "print(f\"{w_cpu} W\")"
   ]
  },
  {
   "cell_type": "markdown",
   "metadata": {},
   "source": [
    "### Ram\n"
   ]
  },
  {
   "cell_type": "code",
   "execution_count": 9,
   "metadata": {},
   "outputs": [
    {
     "name": "stdout",
     "output_type": "stream",
     "text": [
      "207.36 W\n"
     ]
    }
   ],
   "source": [
    "f_ram_idle = 0.19  # W/GB\n",
    "f_ram_active_cons = 0.54  # W/GB\n",
    "\n",
    "w_ram = f_ram_active_cons * (ram_capacity * ram_sticks)\n",
    "print(f\"{w_ram} W\")"
   ]
  },
  {
   "cell_type": "markdown",
   "metadata": {},
   "source": [
    "### SSD\n"
   ]
  },
  {
   "cell_type": "code",
   "execution_count": 10,
   "metadata": {},
   "outputs": [
    {
     "name": "stdout",
     "output_type": "stream",
     "text": [
      "45.6 W\n"
     ]
    }
   ],
   "source": [
    "ssd_cons = (\n",
    "    5.7  # W/disk from https://www.techpowerup.com/ssd-specs/samsung-950-pro-512-gb.d74\n",
    ")\n",
    "\n",
    "w_ssd = ssd_cons * ssd_disks\n",
    "print(f\"{w_ssd} W\")"
   ]
  },
  {
   "cell_type": "markdown",
   "metadata": {},
   "source": [
    "### Others\n"
   ]
  },
  {
   "cell_type": "markdown",
   "metadata": {},
   "source": [
    "$$\\mathcal{P}_{other}(w) = f \\times (\\mathcal{P}_{cpu} + \\mathcal{P}_{ram} + \\mathcal{P}_{ssd})$$\n"
   ]
  },
  {
   "cell_type": "code",
   "execution_count": 11,
   "metadata": {},
   "outputs": [
    {
     "name": "stdout",
     "output_type": "stream",
     "text": [
      "97.10105166153951 W\n"
     ]
    }
   ],
   "source": [
    "w_others = 0.2 * (w_cpu + w_ram + w_ssd)\n",
    "print(f\"{w_others} W\")"
   ]
  },
  {
   "cell_type": "markdown",
   "metadata": {},
   "source": [
    "# Server\n"
   ]
  },
  {
   "cell_type": "markdown",
   "metadata": {},
   "source": [
    "## Embodied\n"
   ]
  },
  {
   "cell_type": "markdown",
   "metadata": {},
   "source": [
    "$$\n",
    "\\mathcal{F}^e_{server} =\n",
    "\t\\mathcal{F}^e_{cpu}+\n",
    "\t\\mathcal{F}^e_{ram}+\n",
    "\t\\mathcal{F}^e_{storage} +\n",
    "\t\\mathcal{F}^e_{others}\n",
    "$$\n"
   ]
  },
  {
   "cell_type": "code",
   "execution_count": 12,
   "metadata": {},
   "outputs": [
    {
     "name": "stdout",
     "output_type": "stream",
     "text": [
      "Server\n",
      "0.10522462393413702 kgCO2e\n",
      "5.854251364838706e-06 kgSbeq\n",
      "681.9890376855853 MJ\n"
     ]
    }
   ],
   "source": [
    "fe_server_gwp = fe_cpu_gwp + fe_ram_gwp + fe_ssd_gwp + fe_others_gwp\n",
    "fe_server_adp = fe_cpu_adp + fe_ram_adp + fe_ssd_adp + fe_others_adp\n",
    "fe_server_pe = fe_cpu_pe + fe_ram_pe + fe_ssd_pe + fe_others_pe\n",
    "\n",
    "print(\"Server\")\n",
    "print(f\"{fe_server_gwp} kgCO2e\")\n",
    "print(f\"{fe_server_adp} kgSbeq\")\n",
    "print(f\"{fe_server_pe} MJ\")"
   ]
  },
  {
   "cell_type": "code",
   "execution_count": 13,
   "metadata": {},
   "outputs": [
    {
     "data": {
      "image/png": "[encoded data removed]",
      "text/plain": [
       "<Figure size 300x400 with 1 Axes>"
      ]
     },
     "metadata": {},
     "output_type": "display_data"
    }
   ],
   "source": [
    "import matplotlib.pyplot as plt\n",
    "import numpy as np\n",
    "\n",
    "plt.style.use(\"ggplot\")\n",
    "\n",
    "species = (\n",
    "    \"Bottom-up modeling\",\n",
    "    \"Dell R740 LCA\",\n",
    ")\n",
    "weight_counts = {\n",
    "    \"CPU\": np.array([fe_cpu_gwp * life_expectancy, 46.76]),\n",
    "    \"Memory\": np.array([fe_ram_gwp * life_expectancy, 553.33]),\n",
    "    \"SSD\": np.array([fe_ssd_gwp * life_expectancy, 3373.5 + 64.1]),\n",
    "    \"Others\": np.array([fe_others_gwp * life_expectancy, 207.07]),\n",
    "}\n",
    "width = 0.5\n",
    "fig, ax = plt.subplots()\n",
    "bottom = np.zeros(2)\n",
    "\n",
    "for label, weight_count in weight_counts.items():\n",
    "    p = ax.bar(species, weight_count, width, label=label, bottom=bottom)\n",
    "    bottom += weight_count\n",
    "\n",
    "ax.set_title(\"BoaviztAPI bottom-up modeling vs Dell R740 LCA (Embodied)\")\n",
    "ax.legend(loc=\"best\")\n",
    "ax.set_ylabel(\"kgCO2e\")\n",
    "\n",
    "\n",
    "fig.set_figwidth(3)\n",
    "fig.set_figheight(4)\n",
    "\n",
    "# plt.gcf().savefig(\"r740.pdf\", bbox_inches=\"tight\")\n",
    "plt.show()"
   ]
  },
  {
   "cell_type": "code",
   "execution_count": 14,
   "metadata": {},
   "outputs": [
    {
     "data": {
      "image/png": "[encoded data removed]",
      "text/plain": [
       "<Figure size 400x400 with 1 Axes>"
      ]
     },
     "metadata": {},
     "output_type": "display_data"
    }
   ],
   "source": [
    "import pandas as pd\n",
    "\n",
    "plt.style.use(\"ggplot\")\n",
    "\n",
    "fig, ax = plt.subplots()\n",
    "# Data\n",
    "r = [0, 1, 2]\n",
    "raw_data = {\n",
    "    \"greenBars\": [20, 1.5, 7],\n",
    "    \"orangeBars\": [5, 15, 5],\n",
    "    \"blueBars\": [2, 15, 18],\n",
    "}\n",
    "df = pd.DataFrame(raw_data)\n",
    "\n",
    "components = [\"CPU\", \"Memory\", \"SSD\", \"Others\"]\n",
    "\n",
    "cpu_df = [fe_cpu_adp, fe_cpu_gwp, fe_cpu_pe]\n",
    "ram_df = [fe_ram_adp, fe_ram_gwp, fe_ram_pe]\n",
    "ssd_df = [fe_ssd_adp, fe_ssd_gwp, fe_ssd_pe]\n",
    "others_df = [fe_others_adp, fe_others_gwp, fe_others_pe]\n",
    "\n",
    "# From raw value to percentage\n",
    "totals = [i + j + k + z for i, j, k, z in zip(cpu_df, ram_df, ssd_df, others_df)]\n",
    "\n",
    "greenBars = [i / j * 100 for i, j in zip(ram_df, totals)]\n",
    "orangeBars = [i / j * 100 for i, j in zip(cpu_df, totals)]\n",
    "blueBars = [i / j * 100 for i, j in zip(ssd_df, totals)]\n",
    "othersBars = [i / j * 100 for i, j in zip(others_df, totals)]\n",
    "\n",
    "# plot\n",
    "barWidth = 0.5\n",
    "names = (\"ADP\", \"GWP\", \"PE\")\n",
    "# Create green Bars\n",
    "plt.bar(\n",
    "    r,\n",
    "    greenBars,\n",
    "    # color=\"#b5ffb9\",\n",
    "    edgecolor=\"white\",\n",
    "    width=barWidth,\n",
    "    label=\"RAM\",\n",
    ")\n",
    "# Create orange Bars\n",
    "plt.bar(\n",
    "    r,\n",
    "    orangeBars,\n",
    "    bottom=greenBars,\n",
    "    # color=\"#f9bc86\",\n",
    "    edgecolor=\"white\",\n",
    "    width=barWidth,\n",
    "    label=\"CPU\",\n",
    ")\n",
    "# Create blue Bars\n",
    "plt.bar(\n",
    "    r,\n",
    "    blueBars,\n",
    "    bottom=[i + j for i, j in zip(greenBars, orangeBars)],\n",
    "    # color=\"#a3acff\",\n",
    "    edgecolor=\"white\",\n",
    "    width=barWidth,\n",
    "    label=\"SSD\",\n",
    ")\n",
    "\n",
    "# Create blue Bars\n",
    "plt.bar(\n",
    "    r,\n",
    "    othersBars,\n",
    "    bottom=[i + j + k for i, j, k in zip(greenBars, orangeBars, blueBars)],\n",
    "    # color=\"#a3bcff\",\n",
    "    edgecolor=\"white\",\n",
    "    width=barWidth,\n",
    "    label=\"Others\",\n",
    ")\n",
    "\n",
    "# Custom x axis\n",
    "plt.xticks(r, names)\n",
    "plt.ylabel(\"Share (%)\")\n",
    "plt.xlabel(\"Impact category\")\n",
    "# plt.xlabel(\"group\")\n",
    "\n",
    "# Add a legend\n",
    "# plt.legend(loc=\"upper left\", bbox_to_anchor=(1, 1), ncol=1)\n",
    "plt.legend()\n",
    "\n",
    "fig.set_figwidth(4)\n",
    "fig.set_figheight(4)\n",
    "# plt.gcf().savefig(\"multicriteria.pdf\", bbox_inches=\"tight\")\n",
    "plt.show()"
   ]
  },
  {
   "cell_type": "markdown",
   "metadata": {},
   "source": [
    "## Usage\n"
   ]
  },
  {
   "cell_type": "markdown",
   "metadata": {},
   "source": [
    "$$\\mathcal{E}_{server} = \\sum_{c \\in C} (\\mathcal{P}_c \\times \\mathcal{T})$$\n"
   ]
  },
  {
   "cell_type": "code",
   "execution_count": 15,
   "metadata": {},
   "outputs": [
    {
     "name": "stdout",
     "output_type": "stream",
     "text": [
      "582.606309969237 W\n",
      "25518156.376652583 Wh\n"
     ]
    }
   ],
   "source": [
    "w_server = w_cpu + w_ssd + w_ram + w_others\n",
    "e_server = w_server * life_expectancy\n",
    "print(f\"{w_server} W\")\n",
    "print(f\"{e_server} Wh\")"
   ]
  },
  {
   "cell_type": "markdown",
   "metadata": {},
   "source": [
    "# Cloud platform\n",
    "\n",
    "For simplicity, we consider an instance with a single server with characteristics described before.\n"
   ]
  },
  {
   "cell_type": "code",
   "execution_count": 16,
   "metadata": {},
   "outputs": [],
   "source": [
    "PUE = 1.5\n",
    "elec_mix_gwp = (\n",
    "    0.098 / 1000\n",
    ")  # # kgCO2e/Wh, https://www.sciencedirect.com/science/article/pii/S0306261921012149?via%3Dihub\n",
    "elec_mix_pe = 9.31 / 1000  # # MJ/Wh, base empreinte France 2023\n",
    "elec_mix_adp = 4.86e-8 / 1000  # # kgSbeq/Wh, base empreinte France 2023\n",
    "fe_dc_gwp = 2.61e-02 / 1000  # kgCO2e/Wh\n",
    "fe_dc_pe = 6.61e-01 / 1000  # MJ/Wh\n",
    "fe_dc_adp = 1.17e-06 / 1000  # kgSbeq/Wh"
   ]
  },
  {
   "cell_type": "code",
   "execution_count": 17,
   "metadata": {},
   "outputs": [
    {
     "name": "stdout",
     "output_type": "stream",
     "text": [
      "Embodied: {'CPU': 45.6236, 'RAM': 534.5953072625698, 'SSD': 3660.4284210526316, 'Others': 368.1912, 'Environment': 666.0238814306324}\n",
      "Usage: {'CPU': 998.1772667599607, 'RAM': 890.0720640000002, 'SSD': 195.73344, 'Others': 416.79655415199227, 'Environment': 1250.3896624559766}\n"
     ]
    },
    {
     "data": {
      "image/png": "[encoded data removed]",
      "text/plain": [
       "<Figure size 1000x500 with 1 Axes>"
      ]
     },
     "metadata": {},
     "output_type": "display_data"
    }
   ],
   "source": [
    "# Data\n",
    "platform_embodied = {\n",
    "    \"CPU\": fe_cpu_gwp * life_expectancy,\n",
    "    \"RAM\": fe_ram_gwp * life_expectancy,\n",
    "    \"SSD\": fe_ssd_gwp * life_expectancy,\n",
    "    \"Others\": fe_others_gwp * life_expectancy,\n",
    "    \"Environment\": w_server * fe_dc_gwp * life_expectancy,\n",
    "}\n",
    "\n",
    "platform_usage = {\n",
    "    \"CPU\": (w_cpu * elec_mix_gwp) * life_expectancy,\n",
    "    \"RAM\": (w_ram * elec_mix_gwp) * life_expectancy,\n",
    "    \"SSD\": (w_ssd * elec_mix_gwp) * life_expectancy,\n",
    "    \"Others\": (w_others * elec_mix_gwp) * life_expectancy,\n",
    "    \"Environment\": w_server * ((PUE - 1) * elec_mix_gwp) * life_expectancy,\n",
    "}\n",
    "\n",
    "print(\"Embodied: \" + str(platform_embodied))\n",
    "print(\"Usage: \" + str(platform_usage))\n",
    "plot_usage_embodied(embodied=platform_embodied, usage=platform_usage)"
   ]
  },
  {
   "cell_type": "markdown",
   "metadata": {},
   "source": [
    "# Cloud instance\n"
   ]
  },
  {
   "cell_type": "markdown",
   "metadata": {},
   "source": [
    "We consider a cloud instance with 4 vCPUs, 8 GB of RAM, and 80 GB of SSD storage used for a year in France\n"
   ]
  },
  {
   "cell_type": "markdown",
   "metadata": {},
   "source": [
    "$$ \\mathcal{F}_{inst} = \\mathcal{I}_{env}(\\mathcal{E}_{inst}) + \\sum_{\\substack{r \\in \\{cpu, \\\\ ram, ssd, others\\}}} \\frac{\\mathcal{Q}^u*{r}(instance) \\times \\mathcal{F}*{r}}{\\mathcal{Q}^u\\_{r}(platform)}$$\n"
   ]
  },
  {
   "cell_type": "code",
   "execution_count": 18,
   "metadata": {},
   "outputs": [],
   "source": [
    "inst_vcpus = 4  # vcore\n",
    "inst_vram = 8  # Gb\n",
    "inst_ssd = 80  # Gb\n",
    "inst_duration = 365 * 24  # in hours"
   ]
  },
  {
   "cell_type": "markdown",
   "metadata": {},
   "source": [
    "## Embodied\n"
   ]
  },
  {
   "cell_type": "markdown",
   "metadata": {},
   "source": [
    "### vCPU\n"
   ]
  },
  {
   "cell_type": "code",
   "execution_count": 19,
   "metadata": {},
   "outputs": [
    {
     "name": "stdout",
     "output_type": "stream",
     "text": [
      "vCPU (embodied for instance duration)\n",
      "0.82952 kgCO2e\n",
      "0.0007419663192727272 kgSbeq\n",
      "542068.8 MJ\n"
     ]
    }
   ],
   "source": [
    "fe_inst_cpu_gwp = fe_cpu_gwp * (inst_vcpus / (cpu_units * cpu_cores))\n",
    "fe_inst_cpu_adp = fe_cpu_adp * (inst_vcpus / (cpu_units * cpu_cores))\n",
    "fe_inst_cpu_pe = fe_cpu_pe * (inst_vcpus / (cpu_units * cpu_cores))\n",
    "\n",
    "print(\"vCPU (embodied for instance duration)\")\n",
    "print(f\"{fe_inst_cpu_gwp * inst_duration} kgCO2e\")\n",
    "print(f\"{fe_inst_cpu_adp * inst_duration} kgSbeq\")\n",
    "print(f\"{fe_inst_cpu_pe * inst_duration} MJ\")"
   ]
  },
  {
   "cell_type": "markdown",
   "metadata": {},
   "source": [
    "### vRAM\n"
   ]
  },
  {
   "cell_type": "code",
   "execution_count": 20,
   "metadata": {},
   "outputs": [
    {
     "name": "stdout",
     "output_type": "stream",
     "text": [
      "vRAM (embodied for instance duration)\n",
      "2.227480446927374 kgCO2e\n",
      "0.00014081284916201117 kgSbeq\n",
      "28.1022346368715 MJ\n"
     ]
    }
   ],
   "source": [
    "fe_inst_ram_gwp = fe_ram_gwp * (inst_vram / (ram_sticks * ram_capacity))\n",
    "fe_inst_ram_adp = fe_ram_adp * (inst_vram / (ram_sticks * ram_capacity))\n",
    "fe_inst_ram_pe = fe_ram_pe * (inst_vram / (ram_sticks * ram_capacity))\n",
    "\n",
    "print(\"vRAM (embodied for instance duration)\")\n",
    "print(f\"{fe_inst_ram_gwp * inst_duration} kgCO2e\")\n",
    "print(f\"{fe_inst_ram_adp * inst_duration} kgSbeq\")\n",
    "print(f\"{fe_inst_ram_pe * inst_duration} MJ\")"
   ]
  },
  {
   "cell_type": "markdown",
   "metadata": {},
   "source": [
    "### SSD\n"
   ]
  },
  {
   "cell_type": "code",
   "execution_count": 21,
   "metadata": {},
   "outputs": [
    {
     "name": "stdout",
     "output_type": "stream",
     "text": [
      "vSSD (embodied for instance duration)\n",
      "1.8819683398728182 kgCO2e\n",
      "5.565777296712217e-05 kgSbeq\n",
      "23.33179759166554 MJ\n"
     ]
    }
   ],
   "source": [
    "fe_inst_ssd_gwp = fe_ssd_gwp * (inst_ssd / ssd_total)\n",
    "fe_inst_ssd_adp = fe_ssd_adp * (inst_ssd / ssd_total)\n",
    "fe_inst_ssd_pe = fe_ssd_pe * (inst_ssd / ssd_total)\n",
    "\n",
    "print(\"vSSD (embodied for instance duration)\")\n",
    "print(f\"{fe_inst_ssd_gwp * inst_duration} kgCO2e\")\n",
    "print(f\"{fe_inst_ssd_adp * inst_duration} kgSbeq\")\n",
    "print(f\"{fe_inst_ssd_pe * inst_duration} MJ\")"
   ]
  },
  {
   "cell_type": "markdown",
   "metadata": {},
   "source": [
    "### Others\n"
   ]
  },
  {
   "cell_type": "code",
   "execution_count": 22,
   "metadata": {},
   "outputs": [
    {
     "name": "stdout",
     "output_type": "stream",
     "text": [
      "Others (embodied for instance duration)\n",
      "6.694385454545455 kgCO2e\n",
      "0.0013374292727272726 kgSbeq\n",
      "94.74487272727274 MJ\n"
     ]
    }
   ],
   "source": [
    "fe_inst_others_gwp = fe_others_gwp * (inst_vcpus / (cpu_units * cpu_cores))\n",
    "fe_inst_others_adp = fe_others_adp * (inst_vcpus / (cpu_units * cpu_cores))\n",
    "fe_inst_others_pe = fe_others_pe * (inst_vcpus / (cpu_units * cpu_cores))\n",
    "\n",
    "print(\"Others (embodied for instance duration)\")\n",
    "print(f\"{fe_inst_others_gwp * inst_duration} kgCO2e\")\n",
    "print(f\"{fe_inst_others_adp * inst_duration} kgSbeq\")\n",
    "print(f\"{fe_inst_others_pe * inst_duration} MJ\")"
   ]
  },
  {
   "cell_type": "markdown",
   "metadata": {},
   "source": [
    "### Environment\n"
   ]
  },
  {
   "cell_type": "code",
   "execution_count": 23,
   "metadata": {},
   "outputs": [
    {
     "name": "stdout",
     "output_type": "stream",
     "text": [
      "34.405070011225334 W\n"
     ]
    }
   ],
   "source": [
    "i_w_cpu = w_cpu * (inst_vcpus / (cpu_units * cpu_cores))\n",
    "i_w_ram = w_ram * (inst_vram / (ram_sticks * ram_capacity))\n",
    "i_w_ssd = w_ssd * (inst_ssd / ssd_total)\n",
    "i_w_others = w_others * (inst_vcpus / (cpu_units * cpu_cores))\n",
    "\n",
    "i_w_total = i_w_cpu + i_w_ram + i_w_ssd + i_w_others\n",
    "print(str(i_w_total) + \" W\")"
   ]
  },
  {
   "cell_type": "markdown",
   "metadata": {},
   "source": [
    "$$\\mathcal{I}_{env}^e(\\mathcal{E}) = \\mathcal{E} \\times \\mathcal{F}_{DC}^e$$\n",
    "\n",
    "Here were using power (W) instead of energy (Wh) to obtain a factor per hour\n"
   ]
  },
  {
   "cell_type": "code",
   "execution_count": 24,
   "metadata": {},
   "outputs": [
    {
     "name": "stdout",
     "output_type": "stream",
     "text": [
      "Environment (embodied / h)\n",
      "0.0008979723272929813 kgCO2e\n",
      "4.0253931913133644e-08 kgSbeq\n",
      "0.022741751277419946 MJ\n"
     ]
    }
   ],
   "source": [
    "fe_inst_env_gwp = i_w_total * fe_dc_gwp\n",
    "fe_inst_env_adp = i_w_total * fe_dc_adp\n",
    "fe_inst_env_pe = i_w_total * fe_dc_pe\n",
    "\n",
    "print(\"Environment (embodied / h)\")\n",
    "print(f\"{fe_inst_env_gwp} kgCO2e\")\n",
    "print(f\"{fe_inst_env_adp} kgSbeq\")\n",
    "print(f\"{fe_inst_env_pe} MJ\")"
   ]
  },
  {
   "cell_type": "markdown",
   "metadata": {},
   "source": [
    "## Usage\n"
   ]
  },
  {
   "cell_type": "markdown",
   "metadata": {},
   "source": [
    "### vCPU\n"
   ]
  },
  {
   "cell_type": "code",
   "execution_count": 25,
   "metadata": {},
   "outputs": [
    {
     "name": "stdout",
     "output_type": "stream",
     "text": [
      "vCPU (usage for an hour)\n",
      "0.002071766846741305 kgCO2e\n",
      "1.0274272321594635e-09 kgSbeq\n",
      "0.196817850440424 MJ\n"
     ]
    }
   ],
   "source": [
    "fu_inst_cpu_gwp = (w_cpu * elec_mix_gwp) * (inst_vcpus / (cpu_units * cpu_cores))\n",
    "fu_inst_cpu_adp = (w_cpu * elec_mix_adp) * (inst_vcpus / (cpu_units * cpu_cores))\n",
    "fu_inst_cpu_pe = (w_cpu * elec_mix_pe) * (inst_vcpus / (cpu_units * cpu_cores))\n",
    "\n",
    "print(\"vCPU (usage for an hour)\")\n",
    "print(f\"{fu_inst_cpu_gwp} kgCO2e\")\n",
    "print(f\"{fu_inst_cpu_adp} kgSbeq\")\n",
    "print(f\"{fu_inst_cpu_pe} MJ\")"
   ]
  },
  {
   "cell_type": "markdown",
   "metadata": {},
   "source": [
    "### vRAM\n"
   ]
  },
  {
   "cell_type": "code",
   "execution_count": 26,
   "metadata": {},
   "outputs": [
    {
     "name": "stdout",
     "output_type": "stream",
     "text": [
      "vRAM (usage for an hour)\n",
      "0.00042336000000000007 kgCO2e\n",
      "2.09952e-10 kgSbeq\n",
      "0.040219200000000004 MJ\n"
     ]
    }
   ],
   "source": [
    "fu_inst_ram_gwp = (w_ram * elec_mix_gwp) * (inst_vram / (ram_sticks * ram_capacity))\n",
    "fu_inst_ram_adp = (w_ram * elec_mix_adp) * (inst_vram / (ram_sticks * ram_capacity))\n",
    "fu_inst_ram_pe = (w_ram * elec_mix_pe) * (inst_vram / (ram_sticks * ram_capacity))\n",
    "\n",
    "print(\"vRAM (usage for an hour)\")\n",
    "print(f\"{fu_inst_ram_gwp} kgCO2e\")\n",
    "print(f\"{fu_inst_ram_adp} kgSbeq\")\n",
    "print(f\"{fu_inst_ram_pe} MJ\")"
   ]
  },
  {
   "cell_type": "markdown",
   "metadata": {},
   "source": [
    "### SSD\n"
   ]
  },
  {
   "cell_type": "code",
   "execution_count": 27,
   "metadata": {},
   "outputs": [
    {
     "name": "stdout",
     "output_type": "stream",
     "text": [
      "SSD (usage for an hour)\n",
      "1.1487917737789203e-05 kgCO2e\n",
      "5.69706940874036e-12 kgSbeq\n",
      "0.0010913521850899742 MJ\n"
     ]
    }
   ],
   "source": [
    "fu_inst_ssd_gwp = (w_ssd * elec_mix_gwp) * (inst_ssd / ssd_total)\n",
    "fu_inst_ssd_adp = (w_ssd * elec_mix_adp) * (inst_ssd / ssd_total)\n",
    "fu_inst_ssd_pe = (w_ssd * elec_mix_pe) * (inst_ssd / ssd_total)\n",
    "\n",
    "print(\"SSD (usage for an hour)\")\n",
    "print(f\"{fu_inst_ssd_gwp} kgCO2e\")\n",
    "print(f\"{fu_inst_ssd_adp} kgSbeq\")\n",
    "print(f\"{fu_inst_ssd_pe} MJ\")"
   ]
  },
  {
   "cell_type": "markdown",
   "metadata": {},
   "source": [
    "### Others\n"
   ]
  },
  {
   "cell_type": "code",
   "execution_count": 28,
   "metadata": {},
   "outputs": [
    {
     "name": "stdout",
     "output_type": "stream",
     "text": [
      "Others (usage for an hour)\n",
      "0.0008650820966209885 kgCO2e\n",
      "4.290101009773474e-10 kgSbeq\n",
      "0.0821827991789939 MJ\n"
     ]
    }
   ],
   "source": [
    "fu_inst_others_gwp = (w_others * elec_mix_gwp) * (inst_vcpus / (cpu_units * cpu_cores))\n",
    "fu_inst_others_adp = (w_others * elec_mix_adp) * (inst_vcpus / (cpu_units * cpu_cores))\n",
    "fu_inst_others_pe = (w_others * elec_mix_pe) * (inst_vcpus / (cpu_units * cpu_cores))\n",
    "\n",
    "print(\"Others (usage for an hour)\")\n",
    "print(f\"{fu_inst_others_gwp} kgCO2e\")\n",
    "print(f\"{fu_inst_others_adp} kgSbeq\")\n",
    "print(f\"{fu_inst_others_pe} MJ\")"
   ]
  },
  {
   "cell_type": "markdown",
   "metadata": {},
   "source": [
    "### Environment\n"
   ]
  },
  {
   "cell_type": "markdown",
   "metadata": {},
   "source": [
    "$$\\mathcal{I}_{env}^u(\\mathcal{E}) = \\mathcal{E} \\times (PUE - 1) \\times \\mathcal{F}_{em}$$\n"
   ]
  },
  {
   "cell_type": "code",
   "execution_count": 29,
   "metadata": {},
   "outputs": [
    {
     "name": "stdout",
     "output_type": "stream",
     "text": [
      "Environment (usage for an hour)\n",
      "0.0016858484305500416 kgCO2e\n",
      "0.0016858484305500416 kgSbeq\n",
      "0.0016858484305500416 MJ\n"
     ]
    }
   ],
   "source": [
    "fu_inst_env_gwp = i_w_total * ((PUE - 1) * elec_mix_gwp)\n",
    "fu_inst_env_adp = i_w_total * ((PUE - 1) * elec_mix_gwp)\n",
    "fu_inst_env_pe = i_w_total * ((PUE - 1) * elec_mix_gwp)\n",
    "\n",
    "print(\"Environment (usage for an hour)\")\n",
    "print(f\"{fu_inst_env_gwp} kgCO2e\")\n",
    "print(f\"{fu_inst_env_adp} kgSbeq\")\n",
    "print(f\"{fu_inst_env_pe} MJ\")"
   ]
  },
  {
   "cell_type": "markdown",
   "metadata": {},
   "source": [
    "## Total\n"
   ]
  },
  {
   "cell_type": "code",
   "execution_count": 30,
   "metadata": {},
   "outputs": [
    {
     "name": "stdout",
     "output_type": "stream",
     "text": [
      "Embodied: {'CPU': 45.6236, 'RAM': 534.5953072625698, 'SSD': 3660.4284210526316, 'Others': 368.1912, 'Environment': 666.0238814306324}\n",
      "Usage: {'CPU': 998.1772667599607, 'RAM': 890.0720640000002, 'SSD': 195.73344, 'Others': 416.79655415199227, 'Environment': 1250.3896624559766}\n"
     ]
    },
    {
     "data": {
      "image/png": "[encoded data removed]",
      "text/plain": [
       "<Figure size 1000x500 with 1 Axes>"
      ]
     },
     "metadata": {},
     "output_type": "display_data"
    }
   ],
   "source": [
    "# Data\n",
    "inst_embodied = {\n",
    "    \"CPU\": fe_inst_cpu_gwp * inst_duration,\n",
    "    \"RAM\": fe_inst_ram_gwp * inst_duration,\n",
    "    \"SSD\": fe_inst_ssd_gwp * inst_duration,\n",
    "    \"Others\": fe_inst_others_gwp * inst_duration,\n",
    "    \"Environment\": fe_inst_env_gwp * inst_duration,\n",
    "}\n",
    "\n",
    "inst_usage = {\n",
    "    \"CPU\": fu_inst_cpu_gwp * inst_duration,\n",
    "    \"RAM\": fu_inst_ram_gwp * inst_duration,\n",
    "    \"SSD\": fu_inst_ssd_gwp * inst_duration,\n",
    "    \"Others\": fu_inst_others_gwp * inst_duration,\n",
    "    \"Environment\": fu_inst_env_gwp * inst_duration,\n",
    "}\n",
    "\n",
    "print(\"Embodied: \" + str(platform_embodied))\n",
    "print(\"Usage: \" + str(platform_usage))\n",
    "\n",
    "plot_usage_embodied(embodied=inst_embodied, usage=inst_usage)"
   ]
  }
 ],
 "metadata": {
  "kernelspec": {
   "display_name": "venv",
   "language": "python",
   "name": "python3"
  },
  "language_info": {
   "codemirror_mode": {
    "name": "ipython",
    "version": 3
   },
   "file_extension": ".py",
   "mimetype": "text/x-python",
   "name": "python",
   "nbconvert_exporter": "python",
   "pygments_lexer": "ipython3",
   "version": "3.9.6"
  }
 },
 "nbformat": 4,
 "nbformat_minor": 2
}
